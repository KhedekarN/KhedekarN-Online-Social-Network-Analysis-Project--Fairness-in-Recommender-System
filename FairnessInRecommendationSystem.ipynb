{
 "cells": [
  {
   "cell_type": "code",
   "execution_count": 2,
   "metadata": {},
   "outputs": [],
   "source": [
    "import pandas as pd\n",
    "from surprise import KNNBasic\n",
    "import heapq\n",
    "import sqlite3\n",
    "import os\n",
    "import time\n",
    "import numpy as np\n",
    "import pandas as pd\n",
    "import matplotlib.pyplot as plt\n",
    "\n",
    "\n",
    "\n",
    "from collections import defaultdict\n",
    "from operator import itemgetter\n",
    "from scipy.sparse import csr_matrix\n",
    "from implicit.bpr import BayesianPersonalizedRanking\n",
    "from implicit.evaluation import train_test_split, precision_at_k\n",
    "from astropy.table import QTable, Table, Column\n",
    "from astropy import units as u\n",
    "\n",
    "data_dir = 'D:\\\\Course_Work\\\\fall2020\\\\OSNA\\\\Project2\\\\'"
   ]
  },
  {
   "cell_type": "code",
   "execution_count": 3,
   "metadata": {},
   "outputs": [],
   "source": [
    "#extracting database using sqlite\n",
    "resData = sqlite3.connect(\"D:\\\\Course_Work\\\\fall2020\\\\OSNA\\\\Project2\\\\yelpResData.db\")\n",
    "resData.text_factory = lambda b: b.decode(errors = 'ignore')\n",
    "cur = resData.cursor()"
   ]
  },
  {
   "cell_type": "code",
   "execution_count": 4,
   "metadata": {},
   "outputs": [
    {
     "data": {
      "text/plain": [
       "<sqlite3.Cursor at 0x1ac34e96c70>"
      ]
     },
     "execution_count": 4,
     "metadata": {},
     "output_type": "execute_result"
    }
   ],
   "source": [
    "cur.execute(\"Select * from restaurant\")"
   ]
  },
  {
   "cell_type": "code",
   "execution_count": 5,
   "metadata": {},
   "outputs": [],
   "source": [
    "restaurant_df= pd.read_sql_query(\"select * from restaurant\",resData)\n",
    "reviewer_df= pd.read_sql_query(\"select * from reviewer\",resData)\n",
    "review_df= pd.read_sql_query(\"select * from review\",resData)"
   ]
  },
  {
   "cell_type": "code",
   "execution_count": 6,
   "metadata": {},
   "outputs": [
    {
     "data": {
      "text/plain": [
       "<sqlite3.Cursor at 0x1ac34e96c70>"
      ]
     },
     "execution_count": 6,
     "metadata": {},
     "output_type": "execute_result"
    }
   ],
   "source": [
    "cur.execute(\"select * from sqlite_master\")"
   ]
  },
  {
   "cell_type": "code",
   "execution_count": 7,
   "metadata": {},
   "outputs": [],
   "source": [
    "tables = cur.fetchall()"
   ]
  },
  {
   "cell_type": "code",
   "execution_count": 8,
   "metadata": {},
   "outputs": [
    {
     "name": "stdout",
     "output_type": "stream",
     "text": [
      "[('table', 'review', 'review', 2, 'CREATE TABLE review(date varchar2(30),reviewID varchar2(30),reviewerID varchar2(30),reviewContent varchar2(800),rating INT,usefulCount INT,coolCount INT,funnyCount INT,flagged varchar2(3),restaurantID varchar2(30),primary key (reviewID))'), ('index', 'sqlite_autoindex_review_1', 'review', 3, None), ('table', 'restaurant', 'restaurant', 4, 'CREATE TABLE restaurant(restaurantID varchar2(30),name varchar2(30),location varchar2(30),reviewCount INT,rating NUMBER,categories varchar2(500),address varchar2(30),Hours varchar2(30),GoodforKids varchar2(30),AcceptsCreditCards varchar2(30),Parking varchar2(30),Attire varchar2(30),GoodforGroups varchar2(30),PriceRange varchar2(30),TakesReservations varchar2(30),Delivery varchar2(30),Takeout varchar2(30),WaiterService varchar2(30),OutdoorSeating varchar2(30),WiFi varchar2(30),GoodFor varchar2(30),Alcohol varchar2(30),NoiseLevel varchar2(30),Ambience varchar2(30),HasTV varchar2(30),Caters varchar2(30),WheelchairAccessible varchar2(30),webSite varchar2(30),phoneNumber varchar2(30),filReviewCount INT,primary key (restaurantID))'), ('index', 'sqlite_autoindex_restaurant_1', 'restaurant', 5, None), ('table', 'reviewer', 'reviewer', 10, 'CREATE TABLE reviewer (\\n    \"reviewerID\" VARCHAR2(30),\\n    \"name\" VARCHAR2(30),\\n    \"location\" VARCHAR2(30),\\n    \"yelpJoinDate\" VARCHAR2(10),\\n    \"friendCount\" INT,\\n    \"reviewCount\" INT,\\n    \"firstCount\" INT,\\n    \"usefulCount\" INT,\\n    \"coolCount\" INT,\\n    \"funnyCount\" INT,\\n    \"complimentCount\" INT,\\n    \"tipCount\" INT,\\n    \"fanCount\" INT\\n)'), ('index', 'reviewIdIndex', 'review', 12, 'CREATE INDEX reviewIdIndex on review(reviewerid)')]\n"
     ]
    }
   ],
   "source": [
    "print(tables)"
   ]
  },
  {
   "cell_type": "code",
   "execution_count": 9,
   "metadata": {},
   "outputs": [],
   "source": [
    "phase1_df= pd.read_sql_query(\"Select reviewer.reviewerID as userID, restaurant.restaurantID as itemID, review.rating as rating, restaurant.categories as itemCategories from review INNER JOIN restaurant ON review.restaurantID = restaurant.restaurantID INNER JOIN reviewer ON review.reviewerID = reviewer.reviewerID \",resData)"
   ]
  },
  {
   "cell_type": "code",
   "execution_count": 10,
   "metadata": {},
   "outputs": [],
   "source": [
    "phase1_df.to_csv('D:\\\\Course_Work\\\\fall2020\\\\OSNA\\\\Project2\\\\rating.csv')\n",
    "restaurant_df.to_csv('restaurant.csv')"
   ]
  },
  {
   "cell_type": "code",
   "execution_count": 11,
   "metadata": {},
   "outputs": [
    {
     "name": "stdout",
     "output_type": "stream",
     "text": [
      "unique userID 16941\n",
      "unique itemID 235717\n",
      "unique itemCategories 21516\n"
     ]
    }
   ],
   "source": [
    "print(\"unique userID\",len(phase1_df[\"userID\"].unique()))\n",
    "print(\"unique itemID\",len(phase1_df[\"itemID\"].unique()))\n",
    "print(\"unique itemCategories\",len(phase1_df[\"itemCategories\"].unique()))\n"
   ]
  },
  {
   "cell_type": "code",
   "execution_count": 13,
   "metadata": {},
   "outputs": [
    {
     "name": "stdout",
     "output_type": "stream",
     "text": [
      "dimension:  (700617, 5)\n"
     ]
    }
   ],
   "source": [
    "#using our rating.csv file and creating column userId, creating userId for each userID\n",
    "\n",
    "user_col = 'userId'\n",
    "item_col = 'itemId'\n",
    "userCOL='userID'\n",
    "itemCOL='itemID'\n",
    "value_col = 'rating'\n",
    "\n",
    "rating_path = os.path.join(data_dir, 'rating.csv')\n",
    "df = pd.read_csv(rating_path)\n",
    "print('dimension: ', df.shape)\n",
    "df.head()\n",
    "\n",
    "df=df.rename(columns={'Unnamed: 0':'userId'})\n"
   ]
  },
  {
   "cell_type": "code",
   "execution_count": 14,
   "metadata": {},
   "outputs": [
    {
     "data": {
      "text/html": [
       "<div>\n",
       "<style scoped>\n",
       "    .dataframe tbody tr th:only-of-type {\n",
       "        vertical-align: middle;\n",
       "    }\n",
       "\n",
       "    .dataframe tbody tr th {\n",
       "        vertical-align: top;\n",
       "    }\n",
       "\n",
       "    .dataframe thead th {\n",
       "        text-align: right;\n",
       "    }\n",
       "</style>\n",
       "<table border=\"1\" class=\"dataframe\">\n",
       "  <thead>\n",
       "    <tr style=\"text-align: right;\">\n",
       "      <th></th>\n",
       "      <th>userId</th>\n",
       "      <th>userID</th>\n",
       "      <th>itemID</th>\n",
       "      <th>rating</th>\n",
       "      <th>itemCategories</th>\n",
       "    </tr>\n",
       "  </thead>\n",
       "  <tbody>\n",
       "    <tr>\n",
       "      <th>0</th>\n",
       "      <td>0</td>\n",
       "      <td>bNYesZ944s6IJVowOnB0iA</td>\n",
       "      <td>pbEiXam9YJL3neCYHGwLUA</td>\n",
       "      <td>5</td>\n",
       "      <td>Restaurants, American (New)</td>\n",
       "    </tr>\n",
       "    <tr>\n",
       "      <th>1</th>\n",
       "      <td>1</td>\n",
       "      <td>TRKxLC3y-ZvP45e5iilMtw</td>\n",
       "      <td>pbEiXam9YJL3neCYHGwLUA</td>\n",
       "      <td>5</td>\n",
       "      <td>Restaurants, American (New)</td>\n",
       "    </tr>\n",
       "    <tr>\n",
       "      <th>2</th>\n",
       "      <td>2</td>\n",
       "      <td>0EMm8umAqXZzyhxNpL4M9g</td>\n",
       "      <td>pbEiXam9YJL3neCYHGwLUA</td>\n",
       "      <td>3</td>\n",
       "      <td>Restaurants, American (New)</td>\n",
       "    </tr>\n",
       "    <tr>\n",
       "      <th>3</th>\n",
       "      <td>3</td>\n",
       "      <td>DlwexC7z88ymAzu45skODw</td>\n",
       "      <td>pbEiXam9YJL3neCYHGwLUA</td>\n",
       "      <td>3</td>\n",
       "      <td>Restaurants, American (New)</td>\n",
       "    </tr>\n",
       "    <tr>\n",
       "      <th>4</th>\n",
       "      <td>4</td>\n",
       "      <td>kW2dk1CWihmh3g7k9N2G8A</td>\n",
       "      <td>pbEiXam9YJL3neCYHGwLUA</td>\n",
       "      <td>5</td>\n",
       "      <td>Restaurants, American (New)</td>\n",
       "    </tr>\n",
       "    <tr>\n",
       "      <th>...</th>\n",
       "      <td>...</td>\n",
       "      <td>...</td>\n",
       "      <td>...</td>\n",
       "      <td>...</td>\n",
       "      <td>...</td>\n",
       "    </tr>\n",
       "    <tr>\n",
       "      <th>700612</th>\n",
       "      <td>700612</td>\n",
       "      <td>fD4xs9TX1zBc5PLo1yhKzQ</td>\n",
       "      <td>dnECi2zFFvICCeAkDVOa4Q</td>\n",
       "      <td>4</td>\n",
       "      <td>Nightlife, Bars, Restaurants, American (New), ...</td>\n",
       "    </tr>\n",
       "    <tr>\n",
       "      <th>700613</th>\n",
       "      <td>700613</td>\n",
       "      <td>fD4xs9TX1zBc5PLo1yhKzQ</td>\n",
       "      <td>UdT2Nw5ueHQgTq8UnySoAQ</td>\n",
       "      <td>2</td>\n",
       "      <td>Shopping, Sporting Goods, Bikes, METADATA</td>\n",
       "    </tr>\n",
       "    <tr>\n",
       "      <th>700614</th>\n",
       "      <td>700614</td>\n",
       "      <td>Z-6Hpto5G0RVc2k3LJ-rRw</td>\n",
       "      <td>htEuhPBhBgMs6ShlT3G3JA</td>\n",
       "      <td>4</td>\n",
       "      <td>Restaurants, Pizza, Italian, METADATA</td>\n",
       "    </tr>\n",
       "    <tr>\n",
       "      <th>700615</th>\n",
       "      <td>700615</td>\n",
       "      <td>Z-6Hpto5G0RVc2k3LJ-rRw</td>\n",
       "      <td>CMJM0iy2ha4_A0iJj_anrA</td>\n",
       "      <td>4</td>\n",
       "      <td>Event Planning &amp; Services, Hotels, Hotels &amp; Tr...</td>\n",
       "    </tr>\n",
       "    <tr>\n",
       "      <th>700616</th>\n",
       "      <td>700616</td>\n",
       "      <td>Su9fsHE-rQTsFfy-II3y8A</td>\n",
       "      <td>TkFEKhsCixPWlShULKvMdQ</td>\n",
       "      <td>4</td>\n",
       "      <td>Restaurants, Pizza, Italian, Food, Desserts, M...</td>\n",
       "    </tr>\n",
       "  </tbody>\n",
       "</table>\n",
       "<p>700617 rows × 5 columns</p>\n",
       "</div>"
      ],
      "text/plain": [
       "        userId                  userID                  itemID  rating  \\\n",
       "0            0  bNYesZ944s6IJVowOnB0iA  pbEiXam9YJL3neCYHGwLUA       5   \n",
       "1            1  TRKxLC3y-ZvP45e5iilMtw  pbEiXam9YJL3neCYHGwLUA       5   \n",
       "2            2  0EMm8umAqXZzyhxNpL4M9g  pbEiXam9YJL3neCYHGwLUA       3   \n",
       "3            3  DlwexC7z88ymAzu45skODw  pbEiXam9YJL3neCYHGwLUA       3   \n",
       "4            4  kW2dk1CWihmh3g7k9N2G8A  pbEiXam9YJL3neCYHGwLUA       5   \n",
       "...        ...                     ...                     ...     ...   \n",
       "700612  700612  fD4xs9TX1zBc5PLo1yhKzQ  dnECi2zFFvICCeAkDVOa4Q       4   \n",
       "700613  700613  fD4xs9TX1zBc5PLo1yhKzQ  UdT2Nw5ueHQgTq8UnySoAQ       2   \n",
       "700614  700614  Z-6Hpto5G0RVc2k3LJ-rRw  htEuhPBhBgMs6ShlT3G3JA       4   \n",
       "700615  700615  Z-6Hpto5G0RVc2k3LJ-rRw  CMJM0iy2ha4_A0iJj_anrA       4   \n",
       "700616  700616  Su9fsHE-rQTsFfy-II3y8A  TkFEKhsCixPWlShULKvMdQ       4   \n",
       "\n",
       "                                           itemCategories  \n",
       "0                             Restaurants, American (New)  \n",
       "1                             Restaurants, American (New)  \n",
       "2                             Restaurants, American (New)  \n",
       "3                             Restaurants, American (New)  \n",
       "4                             Restaurants, American (New)  \n",
       "...                                                   ...  \n",
       "700612  Nightlife, Bars, Restaurants, American (New), ...  \n",
       "700613          Shopping, Sporting Goods, Bikes, METADATA  \n",
       "700614              Restaurants, Pizza, Italian, METADATA  \n",
       "700615  Event Planning & Services, Hotels, Hotels & Tr...  \n",
       "700616  Restaurants, Pizza, Italian, Food, Desserts, M...  \n",
       "\n",
       "[700617 rows x 5 columns]"
      ]
     },
     "execution_count": 14,
     "metadata": {},
     "output_type": "execute_result"
    }
   ],
   "source": [
    "df"
   ]
  },
  {
   "cell_type": "code",
   "execution_count": 15,
   "metadata": {},
   "outputs": [],
   "source": [
    "# ranking our dataframe, as the size of dataframe is too huge(7000617X5) working on this huge data is difficult.\n",
    "\n",
    "# Calculated total ratings and sum of ratings given to each itemID\n",
    "\n",
    "\n",
    "phase2_TR_df=pd.DataFrame(df.itemID.value_counts(),columns=['itemID','tatalRatings'])\n",
    "phase2_TR_df.reset_index(inplace=True)\n",
    "phase2_TR_df=phase2_TR_df.rename(columns={'index':'itemID','itemID':'totalRatings'})\n",
    "totalRatings_df=phase2_TR_df[['itemID', 'totalRatings']] \n",
    "phase2_AR_df=pd.DataFrame(df.groupby('itemID')['rating'].sum())\n",
    "phase2_AR_df.reset_index(inplace=True)\n",
    "phase2_AR_df=phase2_AR_df.rename(columns={'itemID':'itemID','rating':'sumRatings'})\n",
    "result=pd.merge(phase2_AR_df, totalRatings_df, on='itemID')\n",
    "result['averageRating']=result['sumRatings']/result['totalRatings']\n",
    "Intermidiate_result=pd.merge(df, result, on='itemID')\n",
    "\n",
    "#min number of ratings required \n",
    "m = Intermidiate_result['totalRatings'].quantile(0.75)\n",
    "# Filter out all qualified restaurant into a new DataFrame\n",
    "Qualified_restaurants = Intermidiate_result.copy().loc[Intermidiate_result['totalRatings'] >= m]\n",
    "\n",
    "Qualified_restaurants = Qualified_restaurants[1:]"
   ]
  },
  {
   "cell_type": "code",
   "execution_count": 16,
   "metadata": {},
   "outputs": [
    {
     "data": {
      "text/html": [
       "<div>\n",
       "<style scoped>\n",
       "    .dataframe tbody tr th:only-of-type {\n",
       "        vertical-align: middle;\n",
       "    }\n",
       "\n",
       "    .dataframe tbody tr th {\n",
       "        vertical-align: top;\n",
       "    }\n",
       "\n",
       "    .dataframe thead th {\n",
       "        text-align: right;\n",
       "    }\n",
       "</style>\n",
       "<table border=\"1\" class=\"dataframe\">\n",
       "  <thead>\n",
       "    <tr style=\"text-align: right;\">\n",
       "      <th></th>\n",
       "      <th>userId</th>\n",
       "      <th>userID</th>\n",
       "      <th>itemID</th>\n",
       "      <th>rating</th>\n",
       "      <th>itemCategories</th>\n",
       "      <th>sumRatings</th>\n",
       "      <th>totalRatings</th>\n",
       "      <th>averageRating</th>\n",
       "    </tr>\n",
       "  </thead>\n",
       "  <tbody>\n",
       "    <tr>\n",
       "      <th>1</th>\n",
       "      <td>1</td>\n",
       "      <td>TRKxLC3y-ZvP45e5iilMtw</td>\n",
       "      <td>pbEiXam9YJL3neCYHGwLUA</td>\n",
       "      <td>5</td>\n",
       "      <td>Restaurants, American (New)</td>\n",
       "      <td>3506</td>\n",
       "      <td>755</td>\n",
       "      <td>4.643709</td>\n",
       "    </tr>\n",
       "    <tr>\n",
       "      <th>2</th>\n",
       "      <td>2</td>\n",
       "      <td>0EMm8umAqXZzyhxNpL4M9g</td>\n",
       "      <td>pbEiXam9YJL3neCYHGwLUA</td>\n",
       "      <td>3</td>\n",
       "      <td>Restaurants, American (New)</td>\n",
       "      <td>3506</td>\n",
       "      <td>755</td>\n",
       "      <td>4.643709</td>\n",
       "    </tr>\n",
       "    <tr>\n",
       "      <th>3</th>\n",
       "      <td>3</td>\n",
       "      <td>DlwexC7z88ymAzu45skODw</td>\n",
       "      <td>pbEiXam9YJL3neCYHGwLUA</td>\n",
       "      <td>3</td>\n",
       "      <td>Restaurants, American (New)</td>\n",
       "      <td>3506</td>\n",
       "      <td>755</td>\n",
       "      <td>4.643709</td>\n",
       "    </tr>\n",
       "    <tr>\n",
       "      <th>4</th>\n",
       "      <td>4</td>\n",
       "      <td>kW2dk1CWihmh3g7k9N2G8A</td>\n",
       "      <td>pbEiXam9YJL3neCYHGwLUA</td>\n",
       "      <td>5</td>\n",
       "      <td>Restaurants, American (New)</td>\n",
       "      <td>3506</td>\n",
       "      <td>755</td>\n",
       "      <td>4.643709</td>\n",
       "    </tr>\n",
       "    <tr>\n",
       "      <th>5</th>\n",
       "      <td>5</td>\n",
       "      <td>HxXEcMDDTJFUqVfhPF9M8Q</td>\n",
       "      <td>pbEiXam9YJL3neCYHGwLUA</td>\n",
       "      <td>5</td>\n",
       "      <td>Restaurants, American (New)</td>\n",
       "      <td>3506</td>\n",
       "      <td>755</td>\n",
       "      <td>4.643709</td>\n",
       "    </tr>\n",
       "    <tr>\n",
       "      <th>...</th>\n",
       "      <td>...</td>\n",
       "      <td>...</td>\n",
       "      <td>...</td>\n",
       "      <td>...</td>\n",
       "      <td>...</td>\n",
       "      <td>...</td>\n",
       "      <td>...</td>\n",
       "      <td>...</td>\n",
       "    </tr>\n",
       "    <tr>\n",
       "      <th>490771</th>\n",
       "      <td>662184</td>\n",
       "      <td>G5LXEaxhQMF_BVjNHkVr7g</td>\n",
       "      <td>YqvoyaNvtoC8N5dA8pD2JA</td>\n",
       "      <td>5</td>\n",
       "      <td>Restaurants, Italian, METADATA</td>\n",
       "      <td>138</td>\n",
       "      <td>33</td>\n",
       "      <td>4.181818</td>\n",
       "    </tr>\n",
       "    <tr>\n",
       "      <th>490772</th>\n",
       "      <td>670895</td>\n",
       "      <td>-lOJEsCL-Sk2tbCVjHEwBg</td>\n",
       "      <td>YqvoyaNvtoC8N5dA8pD2JA</td>\n",
       "      <td>5</td>\n",
       "      <td>Restaurants, Italian, METADATA</td>\n",
       "      <td>138</td>\n",
       "      <td>33</td>\n",
       "      <td>4.181818</td>\n",
       "    </tr>\n",
       "    <tr>\n",
       "      <th>490773</th>\n",
       "      <td>675780</td>\n",
       "      <td>AHI4Ew--zYhs0m8npEd65g</td>\n",
       "      <td>YqvoyaNvtoC8N5dA8pD2JA</td>\n",
       "      <td>4</td>\n",
       "      <td>Restaurants, Italian, METADATA</td>\n",
       "      <td>138</td>\n",
       "      <td>33</td>\n",
       "      <td>4.181818</td>\n",
       "    </tr>\n",
       "    <tr>\n",
       "      <th>490774</th>\n",
       "      <td>685306</td>\n",
       "      <td>LPvlJeH4d_GqQoyYHx-0FQ</td>\n",
       "      <td>YqvoyaNvtoC8N5dA8pD2JA</td>\n",
       "      <td>5</td>\n",
       "      <td>Restaurants, Italian, METADATA</td>\n",
       "      <td>138</td>\n",
       "      <td>33</td>\n",
       "      <td>4.181818</td>\n",
       "    </tr>\n",
       "    <tr>\n",
       "      <th>490775</th>\n",
       "      <td>688356</td>\n",
       "      <td>AubdZjrTVXkyN8uPoUw87A</td>\n",
       "      <td>YqvoyaNvtoC8N5dA8pD2JA</td>\n",
       "      <td>4</td>\n",
       "      <td>Restaurants, Italian, METADATA</td>\n",
       "      <td>138</td>\n",
       "      <td>33</td>\n",
       "      <td>4.181818</td>\n",
       "    </tr>\n",
       "  </tbody>\n",
       "</table>\n",
       "<p>176701 rows × 8 columns</p>\n",
       "</div>"
      ],
      "text/plain": [
       "        userId                  userID                  itemID  rating  \\\n",
       "1            1  TRKxLC3y-ZvP45e5iilMtw  pbEiXam9YJL3neCYHGwLUA       5   \n",
       "2            2  0EMm8umAqXZzyhxNpL4M9g  pbEiXam9YJL3neCYHGwLUA       3   \n",
       "3            3  DlwexC7z88ymAzu45skODw  pbEiXam9YJL3neCYHGwLUA       3   \n",
       "4            4  kW2dk1CWihmh3g7k9N2G8A  pbEiXam9YJL3neCYHGwLUA       5   \n",
       "5            5  HxXEcMDDTJFUqVfhPF9M8Q  pbEiXam9YJL3neCYHGwLUA       5   \n",
       "...        ...                     ...                     ...     ...   \n",
       "490771  662184  G5LXEaxhQMF_BVjNHkVr7g  YqvoyaNvtoC8N5dA8pD2JA       5   \n",
       "490772  670895  -lOJEsCL-Sk2tbCVjHEwBg  YqvoyaNvtoC8N5dA8pD2JA       5   \n",
       "490773  675780  AHI4Ew--zYhs0m8npEd65g  YqvoyaNvtoC8N5dA8pD2JA       4   \n",
       "490774  685306  LPvlJeH4d_GqQoyYHx-0FQ  YqvoyaNvtoC8N5dA8pD2JA       5   \n",
       "490775  688356  AubdZjrTVXkyN8uPoUw87A  YqvoyaNvtoC8N5dA8pD2JA       4   \n",
       "\n",
       "                        itemCategories  sumRatings  totalRatings  \\\n",
       "1          Restaurants, American (New)        3506           755   \n",
       "2          Restaurants, American (New)        3506           755   \n",
       "3          Restaurants, American (New)        3506           755   \n",
       "4          Restaurants, American (New)        3506           755   \n",
       "5          Restaurants, American (New)        3506           755   \n",
       "...                                ...         ...           ...   \n",
       "490771  Restaurants, Italian, METADATA         138            33   \n",
       "490772  Restaurants, Italian, METADATA         138            33   \n",
       "490773  Restaurants, Italian, METADATA         138            33   \n",
       "490774  Restaurants, Italian, METADATA         138            33   \n",
       "490775  Restaurants, Italian, METADATA         138            33   \n",
       "\n",
       "        averageRating  \n",
       "1            4.643709  \n",
       "2            4.643709  \n",
       "3            4.643709  \n",
       "4            4.643709  \n",
       "5            4.643709  \n",
       "...               ...  \n",
       "490771       4.181818  \n",
       "490772       4.181818  \n",
       "490773       4.181818  \n",
       "490774       4.181818  \n",
       "490775       4.181818  \n",
       "\n",
       "[176701 rows x 8 columns]"
      ]
     },
     "execution_count": 16,
     "metadata": {},
     "output_type": "execute_result"
    }
   ],
   "source": [
    "Qualified_restaurants"
   ]
  },
  {
   "cell_type": "code",
   "execution_count": 17,
   "metadata": {},
   "outputs": [],
   "source": [
    "Qualified_restaurants.to_csv(r\"D:\\Course_Work\\fall2020\\OSNA\\Project2\\qr.csv\")"
   ]
  },
  {
   "cell_type": "code",
   "execution_count": 18,
   "metadata": {},
   "outputs": [
    {
     "name": "stdout",
     "output_type": "stream",
     "text": [
      "dimension:  (176701, 9)\n"
     ]
    },
    {
     "data": {
      "text/html": [
       "<div>\n",
       "<style scoped>\n",
       "    .dataframe tbody tr th:only-of-type {\n",
       "        vertical-align: middle;\n",
       "    }\n",
       "\n",
       "    .dataframe tbody tr th {\n",
       "        vertical-align: top;\n",
       "    }\n",
       "\n",
       "    .dataframe thead th {\n",
       "        text-align: right;\n",
       "    }\n",
       "</style>\n",
       "<table border=\"1\" class=\"dataframe\">\n",
       "  <thead>\n",
       "    <tr style=\"text-align: right;\">\n",
       "      <th></th>\n",
       "      <th>userId</th>\n",
       "      <th>userID</th>\n",
       "      <th>itemID</th>\n",
       "      <th>rating</th>\n",
       "      <th>itemCategories</th>\n",
       "      <th>sumRatings</th>\n",
       "      <th>totalRatings</th>\n",
       "      <th>averageRating</th>\n",
       "    </tr>\n",
       "  </thead>\n",
       "  <tbody>\n",
       "    <tr>\n",
       "      <th>0</th>\n",
       "      <td>1</td>\n",
       "      <td>TRKxLC3y-ZvP45e5iilMtw</td>\n",
       "      <td>pbEiXam9YJL3neCYHGwLUA</td>\n",
       "      <td>5</td>\n",
       "      <td>Restaurants, American (New)</td>\n",
       "      <td>3506</td>\n",
       "      <td>755</td>\n",
       "      <td>4.643709</td>\n",
       "    </tr>\n",
       "    <tr>\n",
       "      <th>1</th>\n",
       "      <td>2</td>\n",
       "      <td>0EMm8umAqXZzyhxNpL4M9g</td>\n",
       "      <td>pbEiXam9YJL3neCYHGwLUA</td>\n",
       "      <td>3</td>\n",
       "      <td>Restaurants, American (New)</td>\n",
       "      <td>3506</td>\n",
       "      <td>755</td>\n",
       "      <td>4.643709</td>\n",
       "    </tr>\n",
       "    <tr>\n",
       "      <th>2</th>\n",
       "      <td>3</td>\n",
       "      <td>DlwexC7z88ymAzu45skODw</td>\n",
       "      <td>pbEiXam9YJL3neCYHGwLUA</td>\n",
       "      <td>3</td>\n",
       "      <td>Restaurants, American (New)</td>\n",
       "      <td>3506</td>\n",
       "      <td>755</td>\n",
       "      <td>4.643709</td>\n",
       "    </tr>\n",
       "    <tr>\n",
       "      <th>3</th>\n",
       "      <td>4</td>\n",
       "      <td>kW2dk1CWihmh3g7k9N2G8A</td>\n",
       "      <td>pbEiXam9YJL3neCYHGwLUA</td>\n",
       "      <td>5</td>\n",
       "      <td>Restaurants, American (New)</td>\n",
       "      <td>3506</td>\n",
       "      <td>755</td>\n",
       "      <td>4.643709</td>\n",
       "    </tr>\n",
       "    <tr>\n",
       "      <th>4</th>\n",
       "      <td>5</td>\n",
       "      <td>HxXEcMDDTJFUqVfhPF9M8Q</td>\n",
       "      <td>pbEiXam9YJL3neCYHGwLUA</td>\n",
       "      <td>5</td>\n",
       "      <td>Restaurants, American (New)</td>\n",
       "      <td>3506</td>\n",
       "      <td>755</td>\n",
       "      <td>4.643709</td>\n",
       "    </tr>\n",
       "    <tr>\n",
       "      <th>...</th>\n",
       "      <td>...</td>\n",
       "      <td>...</td>\n",
       "      <td>...</td>\n",
       "      <td>...</td>\n",
       "      <td>...</td>\n",
       "      <td>...</td>\n",
       "      <td>...</td>\n",
       "      <td>...</td>\n",
       "    </tr>\n",
       "    <tr>\n",
       "      <th>176696</th>\n",
       "      <td>662184</td>\n",
       "      <td>G5LXEaxhQMF_BVjNHkVr7g</td>\n",
       "      <td>YqvoyaNvtoC8N5dA8pD2JA</td>\n",
       "      <td>5</td>\n",
       "      <td>Restaurants, Italian, METADATA</td>\n",
       "      <td>138</td>\n",
       "      <td>33</td>\n",
       "      <td>4.181818</td>\n",
       "    </tr>\n",
       "    <tr>\n",
       "      <th>176697</th>\n",
       "      <td>670895</td>\n",
       "      <td>-lOJEsCL-Sk2tbCVjHEwBg</td>\n",
       "      <td>YqvoyaNvtoC8N5dA8pD2JA</td>\n",
       "      <td>5</td>\n",
       "      <td>Restaurants, Italian, METADATA</td>\n",
       "      <td>138</td>\n",
       "      <td>33</td>\n",
       "      <td>4.181818</td>\n",
       "    </tr>\n",
       "    <tr>\n",
       "      <th>176698</th>\n",
       "      <td>675780</td>\n",
       "      <td>AHI4Ew--zYhs0m8npEd65g</td>\n",
       "      <td>YqvoyaNvtoC8N5dA8pD2JA</td>\n",
       "      <td>4</td>\n",
       "      <td>Restaurants, Italian, METADATA</td>\n",
       "      <td>138</td>\n",
       "      <td>33</td>\n",
       "      <td>4.181818</td>\n",
       "    </tr>\n",
       "    <tr>\n",
       "      <th>176699</th>\n",
       "      <td>685306</td>\n",
       "      <td>LPvlJeH4d_GqQoyYHx-0FQ</td>\n",
       "      <td>YqvoyaNvtoC8N5dA8pD2JA</td>\n",
       "      <td>5</td>\n",
       "      <td>Restaurants, Italian, METADATA</td>\n",
       "      <td>138</td>\n",
       "      <td>33</td>\n",
       "      <td>4.181818</td>\n",
       "    </tr>\n",
       "    <tr>\n",
       "      <th>176700</th>\n",
       "      <td>688356</td>\n",
       "      <td>AubdZjrTVXkyN8uPoUw87A</td>\n",
       "      <td>YqvoyaNvtoC8N5dA8pD2JA</td>\n",
       "      <td>4</td>\n",
       "      <td>Restaurants, Italian, METADATA</td>\n",
       "      <td>138</td>\n",
       "      <td>33</td>\n",
       "      <td>4.181818</td>\n",
       "    </tr>\n",
       "  </tbody>\n",
       "</table>\n",
       "<p>176701 rows × 8 columns</p>\n",
       "</div>"
      ],
      "text/plain": [
       "        userId                  userID                  itemID  rating  \\\n",
       "0            1  TRKxLC3y-ZvP45e5iilMtw  pbEiXam9YJL3neCYHGwLUA       5   \n",
       "1            2  0EMm8umAqXZzyhxNpL4M9g  pbEiXam9YJL3neCYHGwLUA       3   \n",
       "2            3  DlwexC7z88ymAzu45skODw  pbEiXam9YJL3neCYHGwLUA       3   \n",
       "3            4  kW2dk1CWihmh3g7k9N2G8A  pbEiXam9YJL3neCYHGwLUA       5   \n",
       "4            5  HxXEcMDDTJFUqVfhPF9M8Q  pbEiXam9YJL3neCYHGwLUA       5   \n",
       "...        ...                     ...                     ...     ...   \n",
       "176696  662184  G5LXEaxhQMF_BVjNHkVr7g  YqvoyaNvtoC8N5dA8pD2JA       5   \n",
       "176697  670895  -lOJEsCL-Sk2tbCVjHEwBg  YqvoyaNvtoC8N5dA8pD2JA       5   \n",
       "176698  675780  AHI4Ew--zYhs0m8npEd65g  YqvoyaNvtoC8N5dA8pD2JA       4   \n",
       "176699  685306  LPvlJeH4d_GqQoyYHx-0FQ  YqvoyaNvtoC8N5dA8pD2JA       5   \n",
       "176700  688356  AubdZjrTVXkyN8uPoUw87A  YqvoyaNvtoC8N5dA8pD2JA       4   \n",
       "\n",
       "                        itemCategories  sumRatings  totalRatings  \\\n",
       "0          Restaurants, American (New)        3506           755   \n",
       "1          Restaurants, American (New)        3506           755   \n",
       "2          Restaurants, American (New)        3506           755   \n",
       "3          Restaurants, American (New)        3506           755   \n",
       "4          Restaurants, American (New)        3506           755   \n",
       "...                                ...         ...           ...   \n",
       "176696  Restaurants, Italian, METADATA         138            33   \n",
       "176697  Restaurants, Italian, METADATA         138            33   \n",
       "176698  Restaurants, Italian, METADATA         138            33   \n",
       "176699  Restaurants, Italian, METADATA         138            33   \n",
       "176700  Restaurants, Italian, METADATA         138            33   \n",
       "\n",
       "        averageRating  \n",
       "0            4.643709  \n",
       "1            4.643709  \n",
       "2            4.643709  \n",
       "3            4.643709  \n",
       "4            4.643709  \n",
       "...               ...  \n",
       "176696       4.181818  \n",
       "176697       4.181818  \n",
       "176698       4.181818  \n",
       "176699       4.181818  \n",
       "176700       4.181818  \n",
       "\n",
       "[176701 rows x 8 columns]"
      ]
     },
     "execution_count": 18,
     "metadata": {},
     "output_type": "execute_result"
    }
   ],
   "source": [
    "user_col = 'userId'\n",
    "item_col = 'itemId'\n",
    "userCOL='userID'\n",
    "itemCOL='itemID'\n",
    "value_col = 'rating'\n",
    "\n",
    "df_raw = pd.read_csv(r\"D:\\Course_Work\\fall2020\\OSNA\\Project2\\qr.csv\")\n",
    "print('dimension: ', df_raw.shape)\n",
    "df_raw.head()\n",
    "\n",
    "df_raw=df_raw.drop(['Unnamed: 0'],axis=1)\n",
    "df_raw\n",
    "\n",
    "\n"
   ]
  },
  {
   "cell_type": "code",
   "execution_count": 19,
   "metadata": {},
   "outputs": [
    {
     "name": "stdout",
     "output_type": "stream",
     "text": [
      "dimension:  (242652, 31)\n"
     ]
    },
    {
     "data": {
      "text/html": [
       "<div>\n",
       "<style scoped>\n",
       "    .dataframe tbody tr th:only-of-type {\n",
       "        vertical-align: middle;\n",
       "    }\n",
       "\n",
       "    .dataframe tbody tr th {\n",
       "        vertical-align: top;\n",
       "    }\n",
       "\n",
       "    .dataframe thead th {\n",
       "        text-align: right;\n",
       "    }\n",
       "</style>\n",
       "<table border=\"1\" class=\"dataframe\">\n",
       "  <thead>\n",
       "    <tr style=\"text-align: right;\">\n",
       "      <th></th>\n",
       "      <th>itemId</th>\n",
       "      <th>itemID</th>\n",
       "      <th>name</th>\n",
       "      <th>location</th>\n",
       "      <th>reviewCount</th>\n",
       "      <th>rating</th>\n",
       "      <th>categories</th>\n",
       "      <th>address</th>\n",
       "      <th>Hours</th>\n",
       "      <th>GoodforKids</th>\n",
       "      <th>...</th>\n",
       "      <th>GoodFor</th>\n",
       "      <th>Alcohol</th>\n",
       "      <th>NoiseLevel</th>\n",
       "      <th>Ambience</th>\n",
       "      <th>HasTV</th>\n",
       "      <th>Caters</th>\n",
       "      <th>WheelchairAccessible</th>\n",
       "      <th>webSite</th>\n",
       "      <th>phoneNumber</th>\n",
       "      <th>filReviewCount</th>\n",
       "    </tr>\n",
       "  </thead>\n",
       "  <tbody>\n",
       "    <tr>\n",
       "      <th>0</th>\n",
       "      <td>0</td>\n",
       "      <td>pbEiXam9YJL3neCYHGwLUA</td>\n",
       "      <td>Alinea</td>\n",
       "      <td>Alinea - Lincoln Park - Chicago, IL</td>\n",
       "      <td>841</td>\n",
       "      <td>4.5</td>\n",
       "      <td>Restaurants, American (New)</td>\n",
       "      <td>1723 N Halsted St (between Willow St &amp; Concord...</td>\n",
       "      <td>Wed-Sun 5 pm - 6:30 pm Wed-Sun 8 pm - 9:30 pm</td>\n",
       "      <td>No</td>\n",
       "      <td>...</td>\n",
       "      <td>Dinner</td>\n",
       "      <td>Full Bar</td>\n",
       "      <td>Quiet</td>\n",
       "      <td>Classy, Upscale</td>\n",
       "      <td>No</td>\n",
       "      <td>No</td>\n",
       "      <td>Yes</td>\n",
       "      <td>http://www.alinearestaurant.com</td>\n",
       "      <td>(312) 867-0110</td>\n",
       "      <td>136</td>\n",
       "    </tr>\n",
       "    <tr>\n",
       "      <th>1</th>\n",
       "      <td>1</td>\n",
       "      <td>HOJqzz1WvOmeR9oESJ4d9A</td>\n",
       "      <td>Hot Doug's</td>\n",
       "      <td>Hot Doug's - Avondale - Chicago, IL</td>\n",
       "      <td>2122</td>\n",
       "      <td>4.5</td>\n",
       "      <td>Restaurants, Fast Food, Hot Dogs</td>\n",
       "      <td>3324 N California Ave (between Henderson St &amp; ...</td>\n",
       "      <td>Mon-Sat 10:30 am - 4 pm</td>\n",
       "      <td>Yes</td>\n",
       "      <td>...</td>\n",
       "      <td>Lunch</td>\n",
       "      <td>No</td>\n",
       "      <td>Average</td>\n",
       "      <td>Casual</td>\n",
       "      <td>No</td>\n",
       "      <td>No</td>\n",
       "      <td>Yes</td>\n",
       "      <td>http://www.hotdougs.com</td>\n",
       "      <td>(773) 279-9550</td>\n",
       "      <td>234</td>\n",
       "    </tr>\n",
       "    <tr>\n",
       "      <th>2</th>\n",
       "      <td>2</td>\n",
       "      <td>AkfSndWBxnTn-LpmiL8aLA</td>\n",
       "      <td>Tru</td>\n",
       "      <td>Tru - Near North Side - Chicago, IL</td>\n",
       "      <td>403</td>\n",
       "      <td>4.5</td>\n",
       "      <td>Restaurants, American (New)</td>\n",
       "      <td>676 N St. Clair St (between Erie St &amp; Huron St...</td>\n",
       "      <td>Mon-Thu 6 pm - 9:30 pm Fri 6 pm - 10 pm Sat 5 ...</td>\n",
       "      <td>No</td>\n",
       "      <td>...</td>\n",
       "      <td>Dinner</td>\n",
       "      <td>Full Bar</td>\n",
       "      <td>Quiet</td>\n",
       "      <td>Classy, Upscale</td>\n",
       "      <td>No</td>\n",
       "      <td>No</td>\n",
       "      <td>Yes</td>\n",
       "      <td>http://www.TRUrestaurant.com</td>\n",
       "      <td>(312) 202-0001</td>\n",
       "      <td>52</td>\n",
       "    </tr>\n",
       "    <tr>\n",
       "      <th>3</th>\n",
       "      <td>3</td>\n",
       "      <td>WBU0yq9J8qiYQfI_fh2P1Q</td>\n",
       "      <td>Crisp</td>\n",
       "      <td>Crisp - Lakeview - Chicago, IL</td>\n",
       "      <td>1026</td>\n",
       "      <td>4.0</td>\n",
       "      <td>Restaurants, Korean, Chicken Wings</td>\n",
       "      <td>2940 N Broadway Ave (between Oakdale Ave &amp; Wel...</td>\n",
       "      <td>Tue-Sun 11:30 am - 9 pm</td>\n",
       "      <td>Yes</td>\n",
       "      <td>...</td>\n",
       "      <td>Lunch, Dinner</td>\n",
       "      <td>No</td>\n",
       "      <td>Average</td>\n",
       "      <td>Casual</td>\n",
       "      <td>Yes</td>\n",
       "      <td>No</td>\n",
       "      <td>Yes</td>\n",
       "      <td>http://www.crisponline.com</td>\n",
       "      <td>(773) 697-7610</td>\n",
       "      <td>99</td>\n",
       "    </tr>\n",
       "    <tr>\n",
       "      <th>4</th>\n",
       "      <td>4</td>\n",
       "      <td>bNXpwTSavHBV9zBk2lUlGA</td>\n",
       "      <td>Schwa</td>\n",
       "      <td>Schwa - Wicker Park - Chicago, IL</td>\n",
       "      <td>288</td>\n",
       "      <td>4.5</td>\n",
       "      <td>Restaurants, American (New)</td>\n",
       "      <td>1466 N Ashland Ave (between Julian St &amp; Le Moy...</td>\n",
       "      <td>Tue-Sat 5:30 pm - 10:30 pm</td>\n",
       "      <td>No</td>\n",
       "      <td>...</td>\n",
       "      <td>Dinner</td>\n",
       "      <td>No</td>\n",
       "      <td>Very Loud</td>\n",
       "      <td>Hipster</td>\n",
       "      <td>No</td>\n",
       "      <td>No</td>\n",
       "      <td>Yes</td>\n",
       "      <td>http://www.schwarestaurant.com</td>\n",
       "      <td>(773) 252-1466</td>\n",
       "      <td>55</td>\n",
       "    </tr>\n",
       "  </tbody>\n",
       "</table>\n",
       "<p>5 rows × 31 columns</p>\n",
       "</div>"
      ],
      "text/plain": [
       "   itemId                  itemID        name  \\\n",
       "0       0  pbEiXam9YJL3neCYHGwLUA      Alinea   \n",
       "1       1  HOJqzz1WvOmeR9oESJ4d9A  Hot Doug's   \n",
       "2       2  AkfSndWBxnTn-LpmiL8aLA         Tru   \n",
       "3       3  WBU0yq9J8qiYQfI_fh2P1Q       Crisp   \n",
       "4       4  bNXpwTSavHBV9zBk2lUlGA       Schwa   \n",
       "\n",
       "                              location  reviewCount  rating  \\\n",
       "0  Alinea - Lincoln Park - Chicago, IL          841     4.5   \n",
       "1  Hot Doug's - Avondale - Chicago, IL         2122     4.5   \n",
       "2  Tru - Near North Side - Chicago, IL          403     4.5   \n",
       "3       Crisp - Lakeview - Chicago, IL         1026     4.0   \n",
       "4    Schwa - Wicker Park - Chicago, IL          288     4.5   \n",
       "\n",
       "                           categories  \\\n",
       "0         Restaurants, American (New)   \n",
       "1    Restaurants, Fast Food, Hot Dogs   \n",
       "2         Restaurants, American (New)   \n",
       "3  Restaurants, Korean, Chicken Wings   \n",
       "4         Restaurants, American (New)   \n",
       "\n",
       "                                             address  \\\n",
       "0  1723 N Halsted St (between Willow St & Concord...   \n",
       "1  3324 N California Ave (between Henderson St & ...   \n",
       "2  676 N St. Clair St (between Erie St & Huron St...   \n",
       "3  2940 N Broadway Ave (between Oakdale Ave & Wel...   \n",
       "4  1466 N Ashland Ave (between Julian St & Le Moy...   \n",
       "\n",
       "                                               Hours GoodforKids  ...  \\\n",
       "0      Wed-Sun 5 pm - 6:30 pm Wed-Sun 8 pm - 9:30 pm          No  ...   \n",
       "1                            Mon-Sat 10:30 am - 4 pm         Yes  ...   \n",
       "2  Mon-Thu 6 pm - 9:30 pm Fri 6 pm - 10 pm Sat 5 ...          No  ...   \n",
       "3                            Tue-Sun 11:30 am - 9 pm         Yes  ...   \n",
       "4                         Tue-Sat 5:30 pm - 10:30 pm          No  ...   \n",
       "\n",
       "         GoodFor   Alcohol NoiseLevel         Ambience HasTV Caters  \\\n",
       "0         Dinner  Full Bar      Quiet  Classy, Upscale    No     No   \n",
       "1          Lunch        No    Average           Casual    No     No   \n",
       "2         Dinner  Full Bar      Quiet  Classy, Upscale    No     No   \n",
       "3  Lunch, Dinner        No    Average           Casual   Yes     No   \n",
       "4         Dinner        No  Very Loud          Hipster    No     No   \n",
       "\n",
       "  WheelchairAccessible                          webSite     phoneNumber  \\\n",
       "0                  Yes  http://www.alinearestaurant.com  (312) 867-0110   \n",
       "1                  Yes          http://www.hotdougs.com  (773) 279-9550   \n",
       "2                  Yes     http://www.TRUrestaurant.com  (312) 202-0001   \n",
       "3                  Yes       http://www.crisponline.com  (773) 697-7610   \n",
       "4                  Yes   http://www.schwarestaurant.com  (773) 252-1466   \n",
       "\n",
       "  filReviewCount  \n",
       "0            136  \n",
       "1            234  \n",
       "2             52  \n",
       "3             99  \n",
       "4             55  \n",
       "\n",
       "[5 rows x 31 columns]"
      ]
     },
     "execution_count": 19,
     "metadata": {},
     "output_type": "execute_result"
    }
   ],
   "source": [
    "title_col = 'restaurantID'\n",
    "category_col = 'categories'\n",
    "\n",
    "item_info_path = os.path.join(data_dir, 'restaurant.csv')\n",
    "df_item = pd.read_csv(item_info_path)\n",
    "df_item = df_item[df_item[category_col] != '(no category listed)']\n",
    "print('dimension: ', df_item.shape)\n",
    "df_item=df_item.rename(columns={'Unnamed: 0':'itemId'})\n",
    "df_item=df_item.rename(columns={'restaurantID':'itemID'})\n",
    "df_item.head()"
   ]
  },
  {
   "cell_type": "code",
   "execution_count": 20,
   "metadata": {},
   "outputs": [
    {
     "data": {
      "text/plain": [
       "HOJqzz1WvOmeR9oESJ4d9A"
      ]
     },
     "execution_count": 20,
     "metadata": {},
     "output_type": "execute_result"
    }
   ],
   "source": [
    "title_col = 'itemID'\n",
    "class Item:\n",
    "  \n",
    "    def __init__(self, _id, title, category, score=None):\n",
    "        self.id = _id\n",
    "        self.title = title\n",
    "        self.score = score\n",
    "        self.category = category\n",
    "\n",
    "    def __repr__(self):\n",
    "        return self.title\n",
    "\n",
    "\n",
    "def create_item_mapping(df_item, item_col, title_col, category_col):\n",
    "    item_mapping = {}\n",
    "    for row in df_item.itertuples():\n",
    "        item_id = getattr(row, item_col)\n",
    "        item_title = getattr(row, title_col)\n",
    "        item_category = getattr(row, category_col)\n",
    "\n",
    "        splitted = item_category.split(',')\n",
    "        category_ratio = 1. / len(splitted)\n",
    "        item_category = {category: category_ratio for category in splitted if \"METADATA\" not in category}\n",
    "\n",
    "        item = Item(item_id, item_title, item_category)\n",
    "        item_mapping[item_id] = item\n",
    "\n",
    "    return item_mapping\n",
    "    \n",
    "\n",
    "item_mapping = create_item_mapping(df_item, item_col, title_col, category_col)\n",
    "item_mapping[1]\n"
   ]
  },
  {
   "cell_type": "code",
   "execution_count": 21,
   "metadata": {},
   "outputs": [
    {
     "name": "stdout",
     "output_type": "stream",
     "text": [
      "dimension:  (120636, 38)\n",
      "  userId                  userID                  itemID  rating  \\\n",
      "0      1  TRKxLC3y-ZvP45e5iilMtw  pbEiXam9YJL3neCYHGwLUA       5   \n",
      "1      4  kW2dk1CWihmh3g7k9N2G8A  pbEiXam9YJL3neCYHGwLUA       5   \n",
      "2      5  HxXEcMDDTJFUqVfhPF9M8Q  pbEiXam9YJL3neCYHGwLUA       5   \n",
      "3      6  OW2H-GkKnlVEBPuGHIaiFg  pbEiXam9YJL3neCYHGwLUA       5   \n",
      "4      8  F3mbveXX30Ou0gpDY6IrCQ  pbEiXam9YJL3neCYHGwLUA       5   \n",
      "\n",
      "                itemCategories  sumRatings  totalRatings  averageRating  \\\n",
      "0  Restaurants, American (New)        3506           755       4.643709   \n",
      "1  Restaurants, American (New)        3506           755       4.643709   \n",
      "2  Restaurants, American (New)        3506           755       4.643709   \n",
      "3  Restaurants, American (New)        3506           755       4.643709   \n",
      "4  Restaurants, American (New)        3506           755       4.643709   \n",
      "\n",
      "  itemId    name  ... GoodFor   Alcohol  NoiseLevel         Ambience HasTV  \\\n",
      "0      0  Alinea  ...  Dinner  Full Bar       Quiet  Classy, Upscale    No   \n",
      "1      0  Alinea  ...  Dinner  Full Bar       Quiet  Classy, Upscale    No   \n",
      "2      0  Alinea  ...  Dinner  Full Bar       Quiet  Classy, Upscale    No   \n",
      "3      0  Alinea  ...  Dinner  Full Bar       Quiet  Classy, Upscale    No   \n",
      "4      0  Alinea  ...  Dinner  Full Bar       Quiet  Classy, Upscale    No   \n",
      "\n",
      "  Caters WheelchairAccessible                          webSite  \\\n",
      "0     No                  Yes  http://www.alinearestaurant.com   \n",
      "1     No                  Yes  http://www.alinearestaurant.com   \n",
      "2     No                  Yes  http://www.alinearestaurant.com   \n",
      "3     No                  Yes  http://www.alinearestaurant.com   \n",
      "4     No                  Yes  http://www.alinearestaurant.com   \n",
      "\n",
      "      phoneNumber filReviewCount  \n",
      "0  (312) 867-0110            136  \n",
      "1  (312) 867-0110            136  \n",
      "2  (312) 867-0110            136  \n",
      "3  (312) 867-0110            136  \n",
      "4  (312) 867-0110            136  \n",
      "\n",
      "[5 rows x 38 columns]\n"
     ]
    }
   ],
   "source": [
    "# Calculate mean of rating average column\n",
    "C=Intermidiate_result['averageRating'].mean()\n",
    "\n",
    "\n",
    "df_rating = df_raw[df_raw[value_col]>=C].copy()\n",
    "df_rating = df_rating.merge(df_item, on=itemCOL)\n",
    "#print(df_rating)\n",
    "for col in (user_col, item_col):\n",
    "    df_rating[col] = df_rating[col].astype('category')\n",
    "\n",
    "# the original id are converted to indices to create\n",
    "# the sparse matrix, so we keep track of the mappings here\n",
    "# e.g. a userId 1 will correspond to index 0 in our sparse matrix\n",
    "index2user = df_rating[user_col].cat.categories\n",
    "index2item = df_rating[item_col].cat.categories\n",
    "\n",
    "print('dimension: ', df_rating.shape)\n",
    "df_rating=df_rating.rename(columns={'rating_x':'rating'})\n",
    "#print(df_rating.head())"
   ]
  },
  {
   "cell_type": "code",
   "execution_count": 22,
   "metadata": {},
   "outputs": [
    {
     "data": {
      "text/plain": [
       "<120636x2767 sparse matrix of type '<class 'numpy.float32'>'\n",
       "\twith 120636 stored elements in Compressed Sparse Row format>"
      ]
     },
     "execution_count": 22,
     "metadata": {},
     "output_type": "execute_result"
    }
   ],
   "source": [
    "def create_user_item_csr_matrix(data, user_col, item_col, value_col):\n",
    "    rows = data[user_col].cat.codes\n",
    "    cols = data[item_col].cat.codes\n",
    "    values = data[value_col].astype(np.float32)\n",
    "    return csr_matrix((values, (rows, cols)))\n",
    "\n",
    "\n",
    "user_item = create_user_item_csr_matrix(df_rating, user_col, item_col, value_col)\n",
    "user_item"
   ]
  },
  {
   "cell_type": "code",
   "execution_count": 23,
   "metadata": {},
   "outputs": [
    {
     "data": {
      "text/plain": [
       "<120636x2767 sparse matrix of type '<class 'numpy.float32'>'\n",
       "\twith 96591 stored elements in Compressed Sparse Row format>"
      ]
     },
     "execution_count": 23,
     "metadata": {},
     "output_type": "execute_result"
    }
   ],
   "source": [
    "np.random.seed(1234)\n",
    "user_item_train, user_item_test = train_test_split(user_item, train_percentage=0.8)\n",
    "user_item_train"
   ]
  },
  {
   "cell_type": "code",
   "execution_count": 24,
   "metadata": {},
   "outputs": [
    {
     "data": {
      "text/plain": [
       "<120636x2767 sparse matrix of type '<class 'numpy.float32'>'\n",
       "\twith 24045 stored elements in Compressed Sparse Row format>"
      ]
     },
     "execution_count": 24,
     "metadata": {},
     "output_type": "execute_result"
    }
   ],
   "source": [
    "user_item_test"
   ]
  },
  {
   "cell_type": "code",
   "execution_count": 25,
   "metadata": {},
   "outputs": [
    {
     "data": {
      "application/vnd.jupyter.widget-view+json": {
       "model_id": "49df55368b3b47a18f5a1fd12b1068e5",
       "version_major": 2,
       "version_minor": 0
      },
      "text/plain": [
       "HBox(children=(FloatProgress(value=0.0, max=70.0), HTML(value='')))"
      ]
     },
     "metadata": {},
     "output_type": "display_data"
    },
    {
     "name": "stdout",
     "output_type": "stream",
     "text": [
      "\n"
     ]
    }
   ],
   "source": [
    "# the model expects item-user sparse matrix,the rows represents item and the column represents users\n",
    "np.random.seed(1234)\n",
    "bpr = BayesianPersonalizedRanking(iterations=70)\n",
    "bpr.fit(user_item_train.T.tocsr())"
   ]
  },
  {
   "cell_type": "code",
   "execution_count": 98,
   "metadata": {},
   "outputs": [
    {
     "name": "stdout",
     "output_type": "stream",
     "text": [
      "user has interacted with following item/restaurantID:\n",
      " [CQ75CQSyrsmb-S3UAwCHpw]\n"
     ]
    }
   ],
   "source": [
    "# look a the test user\n",
    "user_id = 1650\n",
    "\n",
    "# finding the index that the user interacted with, we will then map this to a list of Item, note that we need to first map the recommended index to the actual itemId first\n",
    "interacted_ids = user_item_train[user_id].nonzero()[1]\n",
    "interacted_items = [item_mapping[index2item[index]] for index in interacted_ids]\n",
    "print(\"user has interacted with following item/restaurantID:\\n\",interacted_items[:10])"
   ]
  },
  {
   "cell_type": "code",
   "execution_count": 52,
   "metadata": {},
   "outputs": [
    {
     "name": "stdout",
     "output_type": "stream",
     "text": [
      "recommended indexes and their corresponding probability distributions:\n"
     ]
    },
    {
     "data": {
      "text/plain": [
       "[(911, 0.26092592),\n",
       " (756, 0.24339049),\n",
       " (1669, 0.23943785),\n",
       " (986, 0.23118342),\n",
       " (2705, 0.23089793),\n",
       " (1111, 0.2287788),\n",
       " (1191, 0.22520164),\n",
       " (1258, 0.22291692),\n",
       " (302, 0.22063111),\n",
       " (645, 0.21514313)]"
      ]
     },
     "execution_count": 52,
     "metadata": {},
     "output_type": "execute_result"
    }
   ],
   "source": [
    "# it returns the recommended index and their corresponding score\n",
    "topn = 20\n",
    "reco = bpr.recommend(user_id, user_item_train, N=topn)\n",
    "print(\"recommended indexes and their corresponding probability distributions:\")\n",
    "reco[:10]"
   ]
  },
  {
   "cell_type": "code",
   "execution_count": 51,
   "metadata": {},
   "outputs": [
    {
     "name": "stdout",
     "output_type": "stream",
     "text": [
      "Actual recommended indexes:\n"
     ]
    },
    {
     "data": {
      "text/plain": [
       "[F4olqEJiFEW0rc4m9b27gA,\n",
       " 3LNcgFUGdwJil-KDQPZmdQ,\n",
       " 77iOCPe5MhQfZ_ARAa1fBw,\n",
       " dOAj9yI4Y5JsBxQX5D6NBQ,\n",
       " VA8aPObRynlwR1TGzbzraQ,\n",
       " QuQqz3iptjkX1IhauNNwEw,\n",
       " ncydjMXRYcOjSOvShil52w,\n",
       " FZnSFWuXvPwduZDuBpxFSA,\n",
       " 8J3tKkFkf6qICPtvbLFHMQ,\n",
       " 0S44DHW394RexDqtFYMQLg]"
      ]
     },
     "execution_count": 51,
     "metadata": {},
     "output_type": "execute_result"
    }
   ],
   "source": [
    "# mapping the indexs to the actual ItemID\n",
    "reco_items = [item_mapping[index2item[index]] for index, _ in reco]\n",
    "print(\"Actual recommended indexes:\")\n",
    "reco_items[:10]"
   ]
  },
  {
   "cell_type": "code",
   "execution_count": 29,
   "metadata": {},
   "outputs": [],
   "source": [
    "def compute_category_distr(items):\n",
    "    \"\"\"Compute the category distribution for a given list of Items.\"\"\"\n",
    "    distr = {}\n",
    "    for item in items:\n",
    "        for cate, score in item.category.items():\n",
    "            category_score = distr.get(cate, 0.)\n",
    "            distr[cate] = category_score + score\n",
    "\n",
    "    # here we have normalized the summed up probability so it sums up to 1\n",
    "    # and rounded it to three decimal places\n",
    "    for item, category_score in distr.items():\n",
    "        normed_category_score = round(category_score / len(items), 3)\n",
    "        distr[item] = normed_category_score\n",
    "\n",
    "    return distr"
   ]
  },
  {
   "cell_type": "code",
   "execution_count": 54,
   "metadata": {},
   "outputs": [
    {
     "name": "stdout",
     "output_type": "stream",
     "text": [
      "Probability for each category of restaurant to which user given rating to:\n",
      " {'Restaurants': 0.333, ' American (Traditional)': 0.333, ' Steakhouses': 0.333}\n"
     ]
    }
   ],
   "source": [
    "# category probability distribution for interacted/rated items is calculated\n",
    "\n",
    "interacted_distr = compute_category_distr(interacted_items)\n",
    "print(\"Probability for each category of restaurant to which user given rating to:\\n\",interacted_distr)\n"
   ]
  },
  {
   "cell_type": "code",
   "execution_count": 56,
   "metadata": {},
   "outputs": [
    {
     "name": "stdout",
     "output_type": "stream",
     "text": [
      "Probability for each category of restaurant to which user got recommendations to based on history of his ratings:\n",
      " {'Restaurants': 0.157, ' Mediterranean': 0.017, ' British': 0.01, ' Burgers': 0.01, ' Gastropubs': 0.01, 'Active Life': 0.017, ' Parks': 0.017, ' Italian': 0.017, ' American (New)': 0.039, ' Seafood': 0.013, ' Steakhouses': 0.013, ' Sushi Bars': 0.022, ' Japanese': 0.022, ' Cafes': 0.013, 'Food': 0.043, ' Ice Cream & Frozen Yogurt': 0.017, ' Nightlife': 0.01, ' Bars': 0.01, 'Home Services': 0.01, ' Real Estate': 0.01, ' Apartments': 0.01, ' Real Estate Services': 0.01, 'Beauty and Spas': 0.01, ' Day Spas': 0.01, ' Hair Removal': 0.01, ' Laser Hair Removal': 0.01, ' American (Traditional)': 0.027, ' Food': 0.01, ' Breweries': 0.01, 'Shopping': 0.008, ' Books': 0.008, ' Mags': 0.008, ' Music and Video': 0.008, ' Music & DVDs': 0.008, ' Fast Food': 0.013, ' Hot Dogs': 0.013, ' Specialty Food': 0.01, ' Restaurants': 0.01, ' Delis': 0.01, ' Shaved Ice': 0.017, 'Public Services & Government': 0.01, ' Hotels & Travel': 0.01, ' Transportation': 0.01, ' Public Transportation': 0.01, ' Asian Fusion': 0.01}\n"
     ]
    }
   ],
   "source": [
    "# category probability distribution for recommended items based on history of user choices is calculated\n",
    "\n",
    "reco_distr = compute_category_distr(reco_items)\n",
    "print(\"Probability for each category of restaurant to which user got recommendations to based on history of his ratings:\\n\",reco_distr)"
   ]
  },
  {
   "cell_type": "code",
   "execution_count": 74,
   "metadata": {},
   "outputs": [
    {
     "data": {
      "image/png": "[encoded data removed]",
      "text/plain": [
       "<Figure size 576x576 with 1 Axes>"
      ]
     },
     "metadata": {
      "needs_background": "light"
     },
     "output_type": "display_data"
    }
   ],
   "source": [
    "# change default style figure and font size\n",
    "plt.rcParams['figure.figsize'] = 8, 8\n",
    "plt.rcParams['font.size'] = 10\n",
    "\n",
    "\n",
    "def distr_comparison_plot(interacted_distr, reco_distr, width=0.3):\n",
    "    interacted = pd.DataFrame.from_dict(interacted_distr, orient='index')\n",
    "    reco = pd.DataFrame.from_dict(reco_distr, orient='index')\n",
    "    df = interacted.join(reco, how='outer', lsuffix='_interacted')\n",
    "\n",
    "    n = df.shape[0]\n",
    "    index = np.arange(n)\n",
    "    plt.barh(index, df['0_interacted'], height=width, label='interacted distr',color ='red')\n",
    "    plt.barh(index + width, df['0'], height=width, label='reco distr',color ='green')\n",
    "    plt.yticks(index, df.index)\n",
    "    plt.legend(bbox_to_anchor=(1, 0.5))\n",
    "    plt.title(\"for each Category of restaurants Category Distribution between User's Historical ratings v.s. Recommended Ratings\")\n",
    "    plt.ylabel('Restaurant Category')\n",
    "    plt.show()\n",
    "    \n",
    "    \n",
    "distr_comparison_plot(interacted_distr, reco_distr)"
   ]
  },
  {
   "cell_type": "code",
   "execution_count": 75,
   "metadata": {},
   "outputs": [
    {
     "name": "stdout",
     "output_type": "stream",
     "text": [
      "KL divergence between interated/rated category of restaurants and recommendated category of restaurants:\n",
      " 2.9636122318059757\n"
     ]
    }
   ],
   "source": [
    "def compute_kl_divergence(interacted_distr, reco_distr, alpha=0.01):\n",
    "    \"\"\"\n",
    "    KL (p || q), the lower the better.\n",
    "\n",
    "    alpha is not really a tuning parameter, it's just there to make the\n",
    "    computation more numerically stable. \n",
    "    Lower value of alpha worked well so using lower value of alpha i.e. 0.01 through out all experiments\n",
    "    \"\"\"\n",
    "    kl_div = 0.\n",
    "    for category, score in interacted_distr.items():\n",
    "        reco_score = reco_distr.get(category, 0.)\n",
    "        reco_score = (1 - alpha) * reco_score + alpha * score\n",
    "        kl_div += score * np.log2(score / reco_score)\n",
    "\n",
    "    return kl_div\n",
    "\n",
    "\n",
    "print(\"KL divergence between interated/rated category of restaurants and recommendated category of restaurants:\\n\",compute_kl_divergence(interacted_distr, reco_distr, 0.01))\n"
   ]
  },
  {
   "cell_type": "code",
   "execution_count": 76,
   "metadata": {},
   "outputs": [],
   "source": [
    "def generate_item_candidates(model, user_item, user_id, index2item, item_mapping,\n",
    "                             filter_already_liked_items=True):\n",
    "    \"\"\"\n",
    "    For a given user, generate the list of items that we can recommend, during this\n",
    "    step, we will also attach the recommender's score to each item.\n",
    "    \"\"\"\n",
    "    n_items = user_item.shape[1]\n",
    "    \n",
    "    # this is how implicit's matrix factorization generates\n",
    "    # the scores for each item for a given user, modify this\n",
    "    # part of the logic if we were to use a completely different\n",
    "    # algorithm to generate the ranked items\n",
    "    user_factor = model.user_factors[user_id]\n",
    "    scores = model.item_factors.dot(user_factor)\n",
    "\n",
    "    liked = set()\n",
    "    if filter_already_liked_items:\n",
    "        liked = set(user_item[user_id].indices)\n",
    "\n",
    "    item_ids = set(np.arange(n_items))\n",
    "    item_ids -= liked\n",
    "\n",
    "    items = []\n",
    "    for item_id in item_ids:\n",
    "        item = item_mapping[index2item[item_id]]\n",
    "        item.score = scores[item_id]\n",
    "        items.append(item)\n",
    "\n",
    "    return items"
   ]
  },
  {
   "cell_type": "code",
   "execution_count": 77,
   "metadata": {},
   "outputs": [
    {
     "name": "stdout",
     "output_type": "stream",
     "text": [
      "number of item candidates: 2766\n"
     ]
    },
    {
     "data": {
      "text/plain": [
       "[pbEiXam9YJL3neCYHGwLUA,\n",
       " HOJqzz1WvOmeR9oESJ4d9A,\n",
       " AkfSndWBxnTn-LpmiL8aLA,\n",
       " WBU0yq9J8qiYQfI_fh2P1Q,\n",
       " bNXpwTSavHBV9zBk2lUlGA,\n",
       " boE4Ahsssqic7o5wQLI04w,\n",
       " IuFEm-19YYh49T5ZlvwkDA,\n",
       " oEFJ29zAQaCNnQzebHQvpg,\n",
       " jGiKIJCVLZHXQDSNnSLPsw,\n",
       " F7IQngaDDBgYvhA3U31q-g]"
      ]
     },
     "execution_count": 77,
     "metadata": {},
     "output_type": "execute_result"
    }
   ],
   "source": [
    "#re-ranking the predicted list of a recommender system in a post-processing step\n",
    "items = generate_item_candidates(bpr, user_item_train, user_id, index2item, item_mapping)\n",
    "print('number of item candidates:', len(items))\n",
    "items[:10]"
   ]
  },
  {
   "cell_type": "code",
   "execution_count": 78,
   "metadata": {},
   "outputs": [],
   "source": [
    "def compute_utility(reco_items, interacted_distr, lmbda=0.99):\n",
    "    \"\"\"\n",
    "    Our objective function for computing the utility score for\n",
    "    the list of recommended items.\n",
    "\n",
    "    lmbda : float, 0.0 ~ 1.0, default 0.5\n",
    "        Lambda term controls the score and calibration tradeoff,\n",
    "        the higher the lambda the higher the resulting recommendation\n",
    "        will be calibrated. Lambda is keyword in Python, so it's\n",
    "        lmbda instead ^^\n",
    "    \"\"\"\n",
    "    reco_distr = compute_category_distr(reco_items)\n",
    "    kl_div = compute_kl_divergence(interacted_distr, reco_distr)\n",
    "\n",
    "    total_score = 0.0\n",
    "    for item in reco_items:\n",
    "        total_score += item.score\n",
    "    \n",
    "    # kl divergence is the lower the better, while score is\n",
    "    # the higher the better so remember to negate it in the calculation\n",
    "    utility = (1 - lmbda) * total_score - lmbda * kl_div\n",
    "    return utility"
   ]
  },
  {
   "cell_type": "code",
   "execution_count": 79,
   "metadata": {},
   "outputs": [],
   "source": [
    "def calib_recommend(items, interacted_distr, topn=10, lmbda=0.99):\n",
    "    \"\"\"\n",
    "    start with an empty recommendation list, for topn cardinality, during each iteration\n",
    "    update the list with the item that maximizes the utility function.\n",
    "    \"\"\"\n",
    "    calib_reco = []\n",
    "    for _ in range(topn):\n",
    "        max_utility = -np.inf\n",
    "        for item in items:\n",
    "            if item in calib_reco:\n",
    "                continue\n",
    "\n",
    "            utility = compute_utility(calib_reco + [item], interacted_distr, lmbda)\n",
    "            if utility > max_utility:\n",
    "                max_utility = utility\n",
    "                best_item = item\n",
    "\n",
    "        calib_reco.append(best_item)\n",
    "        \n",
    "    return calib_reco"
   ]
  },
  {
   "cell_type": "code",
   "execution_count": 80,
   "metadata": {},
   "outputs": [],
   "source": [
    "calib_reco_items = calib_recommend(items, interacted_distr, topn, lmbda=0.99)"
   ]
  },
  {
   "cell_type": "code",
   "execution_count": 81,
   "metadata": {},
   "outputs": [
    {
     "name": "stdout",
     "output_type": "stream",
     "text": [
      "top 10 calibrated recommendation of restaurants for test user are:\n",
      "\n"
     ]
    },
    {
     "data": {
      "text/plain": [
       "[nS0liS2vfKpxk5XyBLszzA,\n",
       " rnjz2KNgsQ2YaC_kjeuuAQ,\n",
       " YZPip_2JEd5DbG1RmiJhoA,\n",
       " UH881XoEcglrE1NR7dhr9w,\n",
       " d6UbRb9W5eA1yL-DuVZ8ug,\n",
       " wFkuCJ1GPR7z8pYo_doSUA,\n",
       " cEVUninwZ9ltNdIfdtpaiA,\n",
       " n-mj6IJkWyCu4BuD2dvm0A,\n",
       " ykvr3ib1gHQHI4tznSn8iA,\n",
       " Pcg4FtfbvSMMwrYuE1yVjQ,\n",
       " dMEr_XitO-5S_ezNC6EYZQ,\n",
       " Xug2kZTb_nftodx15BM4rQ,\n",
       " -PlOl5YoQn9aTglBOiSJ8Q,\n",
       " iHTf00VF1vBgRbKQOzAiQQ,\n",
       " fJhF5Yy4nguguaaH3TabmQ,\n",
       " 7UEkwYw2ryHYRVnlZ1EG4Q,\n",
       " cFj5shMfBYALFxtZuB38Sg,\n",
       " dMlsQsPU8Y_oiPYC5hHi2A,\n",
       " Gw8BSjJ6FFppeghWUv-DGA,\n",
       " Psfe1Lnwkm8hzcVq80TwQw]"
      ]
     },
     "execution_count": 81,
     "metadata": {},
     "output_type": "execute_result"
    }
   ],
   "source": [
    "print(\"top 10 calibrated recommendation of restaurants for test user are:\\n\")\n",
    "calib_reco_items"
   ]
  },
  {
   "cell_type": "code",
   "execution_count": 82,
   "metadata": {},
   "outputs": [
    {
     "name": "stdout",
     "output_type": "stream",
     "text": [
      "calibrated reco kl-divergence score: 0.406350290905862\n"
     ]
    }
   ],
   "source": [
    "calib_reco_distr = compute_category_distr(calib_reco_items)\n",
    "calib_reco_kl_div = compute_kl_divergence(interacted_distr, calib_reco_distr)\n",
    "print('calibrated reco kl-divergence score:', calib_reco_kl_div)\n"
   ]
  },
  {
   "cell_type": "code",
   "execution_count": 83,
   "metadata": {},
   "outputs": [
    {
     "data": {
      "image/png": "[encoded data removed]",
      "text/plain": [
       "<Figure size 576x576 with 1 Axes>"
      ]
     },
     "metadata": {
      "needs_background": "light"
     },
     "output_type": "display_data"
    }
   ],
   "source": [
    "calib_reco_distr = compute_category_distr(calib_reco_items)\n",
    "distr_comparison_plot(interacted_distr, calib_reco_distr)"
   ]
  },
  {
   "cell_type": "code",
   "execution_count": 99,
   "metadata": {
    "scrolled": false
   },
   "outputs": [
    {
     "name": "stdout",
     "output_type": "stream",
     "text": [
      "for value of lambda= 0.99\n",
      "calibrated reco kl-divergence score: 0.33000434345242896\n"
     ]
    },
    {
     "data": {
      "image/png": "[encoded data removed]",
      "text/plain": [
       "<Figure size 576x576 with 1 Axes>"
      ]
     },
     "metadata": {
      "needs_background": "light"
     },
     "output_type": "display_data"
    },
    {
     "name": "stdout",
     "output_type": "stream",
     "text": [
      "original reco kl-divergence score: 3.6080725311227257\n"
     ]
    },
    {
     "data": {
      "image/png": "[encoded data removed]",
      "text/plain": [
       "<Figure size 576x576 with 1 Axes>"
      ]
     },
     "metadata": {
      "needs_background": "light"
     },
     "output_type": "display_data"
    },
    {
     "name": "stdout",
     "output_type": "stream",
     "text": [
      "-----------------------------------------------------------------------------------------------------------------------\n",
      "for value of lambda= 0.8\n",
      "calibrated reco kl-divergence score: 0.3748094058687277\n"
     ]
    },
    {
     "data": {
      "image/png": "[encoded data removed]",
      "text/plain": [
       "<Figure size 576x576 with 1 Axes>"
      ]
     },
     "metadata": {
      "needs_background": "light"
     },
     "output_type": "display_data"
    },
    {
     "name": "stdout",
     "output_type": "stream",
     "text": [
      "original reco kl-divergence score: 3.6080725311227257\n"
     ]
    },
    {
     "data": {
      "image/png": "[encoded data removed]",
      "text/plain": [
       "<Figure size 576x576 with 1 Axes>"
      ]
     },
     "metadata": {
      "needs_background": "light"
     },
     "output_type": "display_data"
    },
    {
     "name": "stdout",
     "output_type": "stream",
     "text": [
      "-----------------------------------------------------------------------------------------------------------------------\n",
      "for value of lambda= 0.75\n",
      "calibrated reco kl-divergence score: 0.4352844724298802\n"
     ]
    },
    {
     "data": {
      "image/png": "[encoded data removed]",
      "text/plain": [
       "<Figure size 576x576 with 1 Axes>"
      ]
     },
     "metadata": {
      "needs_background": "light"
     },
     "output_type": "display_data"
    },
    {
     "name": "stdout",
     "output_type": "stream",
     "text": [
      "original reco kl-divergence score: 3.6080725311227257\n"
     ]
    },
    {
     "data": {
      "image/png": "[encoded data removed]",
      "text/plain": [
       "<Figure size 576x576 with 1 Axes>"
      ]
     },
     "metadata": {
      "needs_background": "light"
     },
     "output_type": "display_data"
    },
    {
     "name": "stdout",
     "output_type": "stream",
     "text": [
      "-----------------------------------------------------------------------------------------------------------------------\n",
      "for value of lambda= 0.5\n",
      "calibrated reco kl-divergence score: 0.7648658173407298\n"
     ]
    },
    {
     "data": {
      "image/png": "[encoded data removed]",
      "text/plain": [
       "<Figure size 576x576 with 1 Axes>"
      ]
     },
     "metadata": {
      "needs_background": "light"
     },
     "output_type": "display_data"
    },
    {
     "name": "stdout",
     "output_type": "stream",
     "text": [
      "original reco kl-divergence score: 3.6080725311227257\n"
     ]
    },
    {
     "data": {
      "image/png": "[encoded data removed]",
      "text/plain": [
       "<Figure size 576x576 with 1 Axes>"
      ]
     },
     "metadata": {
      "needs_background": "light"
     },
     "output_type": "display_data"
    },
    {
     "name": "stdout",
     "output_type": "stream",
     "text": [
      "-----------------------------------------------------------------------------------------------------------------------\n"
     ]
    }
   ],
   "source": [
    "lambdaValues=[0.99,0.80,0.75,0.50]\n",
    "resultsorigininal=[]\n",
    "resultsCF=[]\n",
    "resultsorigininalreco=[]\n",
    "resultsCFreco=[]\n",
    "for l in lambdaValues:\n",
    "    topn = 10\n",
    "    user_id = 1650\n",
    "    \n",
    "    print(\"for value of lambda=\",l)\n",
    "    reco = bpr.recommend(user_id, user_item_train, N=topn)\n",
    "    reco_items = [item_mapping[index2item[index]] for index, _ in reco]\n",
    "    reco_distr = compute_category_distr(reco_items)\n",
    "\n",
    "    interacted_ids = user_item_train[user_id].nonzero()[1]\n",
    "    interacted_items = [item_mapping[index2item[index]] for index in interacted_ids]\n",
    "    interacted_distr = compute_category_distr(interacted_items)\n",
    "\n",
    "    items = generate_item_candidates(bpr, user_item_train, user_id, index2item, item_mapping)\n",
    "    calib_reco_items = calib_recommend(items, interacted_distr, topn, l)\n",
    "    calib_reco_distr = compute_category_distr(calib_reco_items)\n",
    "\n",
    "    calib_reco_kl_div = compute_kl_divergence(interacted_distr, calib_reco_distr)\n",
    "    print('calibrated reco kl-divergence score:', calib_reco_kl_div)\n",
    "    distr_comparison_plot(interacted_distr, calib_reco_distr)\n",
    "    resultsCF.append(calib_reco_kl_div)\n",
    "    \n",
    "    \n",
    "    reco_kl_div = compute_kl_divergence(interacted_distr, reco_distr)\n",
    "    print('original reco kl-divergence score:', reco_kl_div)\n",
    "    distr_comparison_plot(interacted_distr, reco_distr)\n",
    "    resultsorigininal.append(reco_kl_div)\n",
    "    \n",
    "    print(\"-----------------------------------------------------------------------------------------------------------------------\")"
   ]
  },
  {
   "cell_type": "code",
   "execution_count": 124,
   "metadata": {},
   "outputs": [
    {
     "data": {
      "image/png": "[encoded data removed]",
      "text/plain": [
       "<Figure size 576x576 with 1 Axes>"
      ]
     },
     "metadata": {
      "needs_background": "light"
     },
     "output_type": "display_data"
    },
    {
     "name": "stdout",
     "output_type": "stream",
     "text": [
      "following are the tabular format of our results which shows we got better values of KL Divergence for Calibrated Filtering with Maximum value of lambda(0.99) and min value of alpha(0.01):\n"
     ]
    },
    {
     "data": {
      "text/html": [
       "<i>Table length=4</i>\n",
       "<table id=\"table1840747558024\" class=\"table-striped table-bordered table-condensed\">\n",
       "<thead><tr><th>lambda Values</th><th>alpha values</th><th>KL divergence with Calibrated Filtering**</th><th>KL divergence without Calibrated Filtering</th></tr></thead>\n",
       "<thead><tr><th>float64</th><th>float64</th><th>float64</th><th>float64</th></tr></thead>\n",
       "<tr><td>0.99</td><td>0.01</td><td>0.33000434345242896</td><td>3.6080725311227257</td></tr>\n",
       "<tr><td>0.8</td><td>0.01</td><td>0.3748094058687277</td><td>3.6080725311227257</td></tr>\n",
       "<tr><td>0.75</td><td>0.01</td><td>0.4352844724298802</td><td>3.6080725311227257</td></tr>\n",
       "<tr><td>0.5</td><td>0.01</td><td>0.7648658173407298</td><td>3.6080725311227257</td></tr>\n",
       "</table>"
      ],
      "text/plain": [
       "<Table length=4>\n",
       "lambda Values alpha values ... KL divergence without Calibrated Filtering\n",
       "   float64      float64    ...                  float64                  \n",
       "------------- ------------ ... ------------------------------------------\n",
       "         0.99         0.01 ...                         3.6080725311227257\n",
       "          0.8         0.01 ...                         3.6080725311227257\n",
       "         0.75         0.01 ...                         3.6080725311227257\n",
       "          0.5         0.01 ...                         3.6080725311227257"
      ]
     },
     "execution_count": 124,
     "metadata": {},
     "output_type": "execute_result"
    }
   ],
   "source": [
    "#Lambda Vs KL Divergence with and without Calibrated Filtering\n",
    "\n",
    "x_data=resultsCF\n",
    "y_data=resultsorigininal\n",
    "\n",
    "fig = plt.figure()\n",
    "ax = fig.add_subplot(1, 1, 1)\n",
    "ax.plot(lambdaValues,x_data,label='KL divergence with Calibrated Filtering',color='blue', marker='o', linestyle='dashed',linewidth=3, markersize=10)\n",
    "ax.plot(lambdaValues,y_data,label='KL divergence without Calibrated Filtering',color='orange', marker='o', linestyle='dashed',linewidth=3, markersize=10)\n",
    "\n",
    "ax.set_xlabel('lambda values')\n",
    "ax.set_ylabel('KL divergence values')\n",
    "plt.legend()\n",
    "plt.title(\"Lambda Vs KL Divergence with and without Calibrated Filtering\")\n",
    "plt.show()\n",
    "\n",
    "#tabular result format\n",
    "\n",
    "print(\"following are the tabular format of our results which shows we got better values of KL Divergence for Calibrated Filtering with Maximum value of lambda(0.99) and min value of alpha(0.01):\")\n",
    "t = Table()\n",
    "a = lambdaValues\n",
    "b = [0.01,0.01,0.01,0.01]\n",
    "c = x_data\n",
    "d = y_data\n",
    "t = Table([a, b, c, d],names=('lambda Values', 'alpha values', 'KL divergence with Calibrated Filtering**','KL divergence without Calibrated Filtering'))\n",
    "t"
   ]
  },
  {
   "cell_type": "code",
   "execution_count": null,
   "metadata": {},
   "outputs": [],
   "source": []
  },
  {
   "cell_type": "code",
   "execution_count": null,
   "metadata": {},
   "outputs": [],
   "source": []
  }
 ],
 "metadata": {
  "kernelspec": {
   "display_name": "Python 3",
   "language": "python",
   "name": "python3"
  },
  "language_info": {
   "codemirror_mode": {
    "name": "ipython",
    "version": 3
   },
   "file_extension": ".py",
   "mimetype": "text/x-python",
   "name": "python",
   "nbconvert_exporter": "python",
   "pygments_lexer": "ipython3",
   "version": "3.7.6"
  }
 },
 "nbformat": 4,
 "nbformat_minor": 4
}
